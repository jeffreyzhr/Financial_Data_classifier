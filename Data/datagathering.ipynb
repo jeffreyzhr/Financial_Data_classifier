{
 "cells": [
  {
   "cell_type": "code",
   "execution_count": 215,
   "metadata": {},
   "outputs": [],
   "source": [
    "import requests\n",
    "import pandas as pd\n",
    "import numpy as np\n",
    "import yfinance as yf\n",
    "import matplotlib.pyplot as plt\n",
    "from datetime import date\n",
    "\n",
    "\n",
    "ticker = 'AAPL'\n",
    "current = yf.Ticker(ticker)\n",
    "cashflow = current.quarterly_cashflow\n",
    "financials = current.quarterly_financials\n",
    "balance_sheet = current.quarterly_balance_sheet\n",
    "earnings = current.quarterly_earnings #does not have a date. quarter basis\n",
    "\n",
    "fivey_hist = current.history(period=\"5y\")"
   ]
  },
  {
   "cell_type": "code",
   "execution_count": 208,
   "metadata": {},
   "outputs": [
    {
     "data": {
      "text/html": [
       "<div>\n",
       "<style scoped>\n",
       "    .dataframe tbody tr th:only-of-type {\n",
       "        vertical-align: middle;\n",
       "    }\n",
       "\n",
       "    .dataframe tbody tr th {\n",
       "        vertical-align: top;\n",
       "    }\n",
       "\n",
       "    .dataframe thead th {\n",
       "        text-align: right;\n",
       "    }\n",
       "</style>\n",
       "<table border=\"1\" class=\"dataframe\">\n",
       "  <thead>\n",
       "    <tr style=\"text-align: right;\">\n",
       "      <th></th>\n",
       "      <th>2022-06-25</th>\n",
       "      <th>2022-03-26</th>\n",
       "      <th>2021-12-25</th>\n",
       "      <th>2021-09-25</th>\n",
       "    </tr>\n",
       "  </thead>\n",
       "  <tbody>\n",
       "    <tr>\n",
       "      <th>Total Liab</th>\n",
       "      <td>2.782020e+11</td>\n",
       "      <td>2.832630e+11</td>\n",
       "      <td>3.092590e+11</td>\n",
       "      <td>2.879120e+11</td>\n",
       "    </tr>\n",
       "    <tr>\n",
       "      <th>Total Stockholder Equity</th>\n",
       "      <td>5.810700e+10</td>\n",
       "      <td>6.739900e+10</td>\n",
       "      <td>7.193200e+10</td>\n",
       "      <td>6.309000e+10</td>\n",
       "    </tr>\n",
       "    <tr>\n",
       "      <th>Other Current Liab</th>\n",
       "      <td>5.653900e+10</td>\n",
       "      <td>5.816800e+10</td>\n",
       "      <td>5.704300e+10</td>\n",
       "      <td>5.357700e+10</td>\n",
       "    </tr>\n",
       "    <tr>\n",
       "      <th>Total Assets</th>\n",
       "      <td>3.363090e+11</td>\n",
       "      <td>3.506620e+11</td>\n",
       "      <td>3.811910e+11</td>\n",
       "      <td>3.510020e+11</td>\n",
       "    </tr>\n",
       "    <tr>\n",
       "      <th>Common Stock</th>\n",
       "      <td>6.211500e+10</td>\n",
       "      <td>6.118100e+10</td>\n",
       "      <td>5.842400e+10</td>\n",
       "      <td>5.736500e+10</td>\n",
       "    </tr>\n",
       "    <tr>\n",
       "      <th>Other Current Assets</th>\n",
       "      <td>1.638600e+10</td>\n",
       "      <td>1.580900e+10</td>\n",
       "      <td>1.811200e+10</td>\n",
       "      <td>1.411100e+10</td>\n",
       "    </tr>\n",
       "    <tr>\n",
       "      <th>Retained Earnings</th>\n",
       "      <td>5.289000e+09</td>\n",
       "      <td>1.271200e+10</td>\n",
       "      <td>1.443500e+10</td>\n",
       "      <td>5.562000e+09</td>\n",
       "    </tr>\n",
       "    <tr>\n",
       "      <th>Other Liab</th>\n",
       "      <td>5.362900e+10</td>\n",
       "      <td>5.243200e+10</td>\n",
       "      <td>5.505600e+10</td>\n",
       "      <td>4.305000e+10</td>\n",
       "    </tr>\n",
       "    <tr>\n",
       "      <th>Gains Losses Not Affecting Retained Earnings</th>\n",
       "      <td>-9.297000e+09</td>\n",
       "      <td>-6.494000e+09</td>\n",
       "      <td>-9.270000e+08</td>\n",
       "      <td>1.630000e+08</td>\n",
       "    </tr>\n",
       "    <tr>\n",
       "      <th>Other Assets</th>\n",
       "      <td>5.260500e+10</td>\n",
       "      <td>5.195900e+10</td>\n",
       "      <td>5.010900e+10</td>\n",
       "      <td>3.876200e+10</td>\n",
       "    </tr>\n",
       "    <tr>\n",
       "      <th>Cash</th>\n",
       "      <td>2.750200e+10</td>\n",
       "      <td>2.809800e+10</td>\n",
       "      <td>3.711900e+10</td>\n",
       "      <td>3.494000e+10</td>\n",
       "    </tr>\n",
       "    <tr>\n",
       "      <th>Total Current Liabilities</th>\n",
       "      <td>1.298730e+11</td>\n",
       "      <td>1.275080e+11</td>\n",
       "      <td>1.475740e+11</td>\n",
       "      <td>1.254810e+11</td>\n",
       "    </tr>\n",
       "    <tr>\n",
       "      <th>Short Long Term Debt</th>\n",
       "      <td>1.400900e+10</td>\n",
       "      <td>9.659000e+09</td>\n",
       "      <td>1.116900e+10</td>\n",
       "      <td>9.613000e+09</td>\n",
       "    </tr>\n",
       "    <tr>\n",
       "      <th>Other Stockholder Equity</th>\n",
       "      <td>-9.297000e+09</td>\n",
       "      <td>-6.494000e+09</td>\n",
       "      <td>-9.270000e+08</td>\n",
       "      <td>1.630000e+08</td>\n",
       "    </tr>\n",
       "    <tr>\n",
       "      <th>Property Plant Equipment</th>\n",
       "      <td>4.033500e+10</td>\n",
       "      <td>3.930400e+10</td>\n",
       "      <td>3.924500e+10</td>\n",
       "      <td>4.952700e+10</td>\n",
       "    </tr>\n",
       "    <tr>\n",
       "      <th>Total Current Assets</th>\n",
       "      <td>1.122920e+11</td>\n",
       "      <td>1.181800e+11</td>\n",
       "      <td>1.531540e+11</td>\n",
       "      <td>1.348360e+11</td>\n",
       "    </tr>\n",
       "    <tr>\n",
       "      <th>Long Term Investments</th>\n",
       "      <td>1.310770e+11</td>\n",
       "      <td>1.412190e+11</td>\n",
       "      <td>1.386830e+11</td>\n",
       "      <td>1.278770e+11</td>\n",
       "    </tr>\n",
       "    <tr>\n",
       "      <th>Net Tangible Assets</th>\n",
       "      <td>5.810700e+10</td>\n",
       "      <td>6.739900e+10</td>\n",
       "      <td>7.193200e+10</td>\n",
       "      <td>6.309000e+10</td>\n",
       "    </tr>\n",
       "    <tr>\n",
       "      <th>Short Term Investments</th>\n",
       "      <td>2.072900e+10</td>\n",
       "      <td>2.341300e+10</td>\n",
       "      <td>2.679400e+10</td>\n",
       "      <td>2.769900e+10</td>\n",
       "    </tr>\n",
       "    <tr>\n",
       "      <th>Net Receivables</th>\n",
       "      <td>4.224200e+10</td>\n",
       "      <td>4.540000e+10</td>\n",
       "      <td>6.525300e+10</td>\n",
       "      <td>5.150600e+10</td>\n",
       "    </tr>\n",
       "    <tr>\n",
       "      <th>Long Term Debt</th>\n",
       "      <td>9.470000e+10</td>\n",
       "      <td>1.033230e+11</td>\n",
       "      <td>1.066290e+11</td>\n",
       "      <td>1.091060e+11</td>\n",
       "    </tr>\n",
       "    <tr>\n",
       "      <th>Inventory</th>\n",
       "      <td>5.433000e+09</td>\n",
       "      <td>5.460000e+09</td>\n",
       "      <td>5.876000e+09</td>\n",
       "      <td>6.580000e+09</td>\n",
       "    </tr>\n",
       "    <tr>\n",
       "      <th>Accounts Payable</th>\n",
       "      <td>4.834300e+10</td>\n",
       "      <td>5.268200e+10</td>\n",
       "      <td>7.436200e+10</td>\n",
       "      <td>5.476300e+10</td>\n",
       "    </tr>\n",
       "  </tbody>\n",
       "</table>\n",
       "</div>"
      ],
      "text/plain": [
       "                                                2022-06-25    2022-03-26  \\\n",
       "Total Liab                                    2.782020e+11  2.832630e+11   \n",
       "Total Stockholder Equity                      5.810700e+10  6.739900e+10   \n",
       "Other Current Liab                            5.653900e+10  5.816800e+10   \n",
       "Total Assets                                  3.363090e+11  3.506620e+11   \n",
       "Common Stock                                  6.211500e+10  6.118100e+10   \n",
       "Other Current Assets                          1.638600e+10  1.580900e+10   \n",
       "Retained Earnings                             5.289000e+09  1.271200e+10   \n",
       "Other Liab                                    5.362900e+10  5.243200e+10   \n",
       "Gains Losses Not Affecting Retained Earnings -9.297000e+09 -6.494000e+09   \n",
       "Other Assets                                  5.260500e+10  5.195900e+10   \n",
       "Cash                                          2.750200e+10  2.809800e+10   \n",
       "Total Current Liabilities                     1.298730e+11  1.275080e+11   \n",
       "Short Long Term Debt                          1.400900e+10  9.659000e+09   \n",
       "Other Stockholder Equity                     -9.297000e+09 -6.494000e+09   \n",
       "Property Plant Equipment                      4.033500e+10  3.930400e+10   \n",
       "Total Current Assets                          1.122920e+11  1.181800e+11   \n",
       "Long Term Investments                         1.310770e+11  1.412190e+11   \n",
       "Net Tangible Assets                           5.810700e+10  6.739900e+10   \n",
       "Short Term Investments                        2.072900e+10  2.341300e+10   \n",
       "Net Receivables                               4.224200e+10  4.540000e+10   \n",
       "Long Term Debt                                9.470000e+10  1.033230e+11   \n",
       "Inventory                                     5.433000e+09  5.460000e+09   \n",
       "Accounts Payable                              4.834300e+10  5.268200e+10   \n",
       "\n",
       "                                                2021-12-25    2021-09-25  \n",
       "Total Liab                                    3.092590e+11  2.879120e+11  \n",
       "Total Stockholder Equity                      7.193200e+10  6.309000e+10  \n",
       "Other Current Liab                            5.704300e+10  5.357700e+10  \n",
       "Total Assets                                  3.811910e+11  3.510020e+11  \n",
       "Common Stock                                  5.842400e+10  5.736500e+10  \n",
       "Other Current Assets                          1.811200e+10  1.411100e+10  \n",
       "Retained Earnings                             1.443500e+10  5.562000e+09  \n",
       "Other Liab                                    5.505600e+10  4.305000e+10  \n",
       "Gains Losses Not Affecting Retained Earnings -9.270000e+08  1.630000e+08  \n",
       "Other Assets                                  5.010900e+10  3.876200e+10  \n",
       "Cash                                          3.711900e+10  3.494000e+10  \n",
       "Total Current Liabilities                     1.475740e+11  1.254810e+11  \n",
       "Short Long Term Debt                          1.116900e+10  9.613000e+09  \n",
       "Other Stockholder Equity                     -9.270000e+08  1.630000e+08  \n",
       "Property Plant Equipment                      3.924500e+10  4.952700e+10  \n",
       "Total Current Assets                          1.531540e+11  1.348360e+11  \n",
       "Long Term Investments                         1.386830e+11  1.278770e+11  \n",
       "Net Tangible Assets                           7.193200e+10  6.309000e+10  \n",
       "Short Term Investments                        2.679400e+10  2.769900e+10  \n",
       "Net Receivables                               6.525300e+10  5.150600e+10  \n",
       "Long Term Debt                                1.066290e+11  1.091060e+11  \n",
       "Inventory                                     5.876000e+09  6.580000e+09  \n",
       "Accounts Payable                              7.436200e+10  5.476300e+10  "
      ]
     },
     "execution_count": 208,
     "metadata": {},
     "output_type": "execute_result"
    }
   ],
   "source": [
    "balance_sheet"
   ]
  },
  {
   "cell_type": "code",
   "execution_count": 210,
   "metadata": {},
   "outputs": [
    {
     "data": {
      "text/plain": [
       "['2021-09-24', '2021-12-23', '2022-03-25', '2022-06-24', '2022-08-16']"
      ]
     },
     "execution_count": 210,
     "metadata": {},
     "output_type": "execute_result"
    }
   ],
   "source": [
    "file_dates = [date.today().strftime('%Y-%m-%d')]\n",
    "for date in balance_sheet.columns.to_list():\n",
    "    while date.strftime('%Y-%m-%d') not in fivey_hist[\"Close\"].keys():\n",
    "        date = date - pd.Timedelta(days=1)\n",
    "    file_dates.insert(0, date.strftime('%Y-%m-%d'))\n",
    "file_dates"
   ]
  },
  {
   "cell_type": "code",
   "execution_count": 211,
   "metadata": {},
   "outputs": [
    {
     "data": {
      "text/plain": [
       "[146.10130310058594,\n",
       " 175.5535430908203,\n",
       " 174.22166442871094,\n",
       " 141.4635009765625,\n",
       " 173.02999877929688]"
      ]
     },
     "execution_count": 211,
     "metadata": {},
     "output_type": "execute_result"
    }
   ],
   "source": [
    "quarter_close_price = [fivey_hist[\"Close\"].loc[date] for date in file_dates]\n",
    "quarter_close_price"
   ]
  },
  {
   "cell_type": "code",
   "execution_count": 212,
   "metadata": {},
   "outputs": [
    {
     "data": {
      "text/plain": [
       "[<matplotlib.lines.Line2D at 0x7f7fb8d48820>]"
      ]
     },
     "execution_count": 212,
     "metadata": {},
     "output_type": "execute_result"
    },
    {
     "data": {
      "image/png": "[encoded data removed]",
      "text/plain": [
       "<Figure size 432x288 with 1 Axes>"
      ]
     },
     "metadata": {
      "needs_background": "light"
     },
     "output_type": "display_data"
    }
   ],
   "source": [
    "plt.plot(file_dates, quarter_close_price)"
   ]
  },
  {
   "cell_type": "code",
   "execution_count": null,
   "metadata": {},
   "outputs": [],
   "source": []
  }
 ],
 "metadata": {
  "kernelspec": {
   "display_name": "Python 3.8.3 64-bit",
   "language": "python",
   "name": "python3"
  },
  "language_info": {
   "codemirror_mode": {
    "name": "ipython",
    "version": 3
   },
   "file_extension": ".py",
   "mimetype": "text/x-python",
   "name": "python",
   "nbconvert_exporter": "python",
   "pygments_lexer": "ipython3",
   "version": "3.8.3"
  },
  "orig_nbformat": 4,
  "vscode": {
   "interpreter": {
    "hash": "aee8b7b246df8f9039afb4144a1f6fd8d2ca17a180786b69acc140d282b71a49"
   }
  }
 },
 "nbformat": 4,
 "nbformat_minor": 2
}
